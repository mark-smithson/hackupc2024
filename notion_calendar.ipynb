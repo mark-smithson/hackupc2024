{
 "cells": [
  {
   "cell_type": "code",
   "execution_count": 32,
   "metadata": {},
   "outputs": [],
   "source": [
    "token = 'secret_eP7iwZ8idGIgmGf1pQy8nHTZT0u6dofiLVe09ER0KIo'"
   ]
  },
  {
   "cell_type": "code",
   "execution_count": 94,
   "metadata": {},
   "outputs": [],
   "source": [
    "import requests\n",
    "\n",
    "# The ID of your Notion database where calendar events are stored\n",
    "database_id = \"c98d8f968d734896ab6b6a95628612c0\"\n",
    "\n",
    "# URL for creating a new event in the database\n",
    "url = f\"https://api.notion.com/v1/pages\"\n",
    "\n",
    "# Set headers including authorization token and content type\n",
    "headers = {\n",
    "    \"Authorization\": f\"Bearer {token}\",\n",
    "    \"Content-Type\": \"application/json\",\n",
    "    \"Notion-Version\": \"2021-05-13\"\n",
    "}\n",
    "\n",
    "def createEvent(title: str, start_date: str, end_date: str, description: str, icon: str = \"📅\"):\n",
    "    \"\"\" Create a new event in the Notion database.\n",
    "    \n",
    "    Args:\n",
    "        title (str): The title of the event.\n",
    "        start_date (str): The start date of the event (YYYY-MM-DDT00:00:00Z)\n",
    "        end_date (str): The end date of the event (YYYY-MM-DDT00:00:00Z)\n",
    "        description (str): The description of the event.\n",
    "        icon (str): The emoji icon to use for the event (default is empty).\n",
    "    \"\"\"\n",
    "    # JSON data for the new event\n",
    "    new_event_data = {\n",
    "        \"parent\": {\n",
    "            \"database_id\": database_id\n",
    "        },\n",
    "        \"icon\": {\n",
    "            \"type\": \"emoji\",\n",
    "            \"emoji\": icon\n",
    "        },\n",
    "        \"properties\": {\n",
    "            \"Name\": {\n",
    "                \"title\": [\n",
    "                    {\n",
    "                        \"text\": {\n",
    "                            \"content\": title\n",
    "                        }\n",
    "                    }\n",
    "                ]\n",
    "            },\n",
    "            \"Date\": {\n",
    "                \"type\": \"date\",\n",
    "                \"date\": {\n",
    "                    \"start\": start_date,\n",
    "                    \"end\": end_date\n",
    "                }\n",
    "            }\n",
    "        },\n",
    "        \"children\": [\n",
    "            {\n",
    "                \"object\": \"block\",\n",
    "                \"type\": \"paragraph\",\n",
    "                \"paragraph\": {\n",
    "                    \"text\": [\n",
    "                        {\n",
    "                            \"type\": \"text\",\n",
    "                            \"text\": {\n",
    "                                \"content\": description\n",
    "                            }\n",
    "                        }\n",
    "                    ]\n",
    "                }\n",
    "            }\n",
    "        ]\n",
    "    }\n",
    "\n",
    "    # Make the POST request to create the new event\n",
    "    response = requests.post(url, headers=headers, json=new_event_data)\n",
    "\n",
    "    # Check if the request was successful\n",
    "    if response.status_code == 200:\n",
    "        print(\"Event added successfully!\")\n",
    "    else:\n",
    "        print(\"Failed to add event:\", response.text)\n",
    "\n",
    "    return response"
   ]
  },
  {
   "cell_type": "code",
   "execution_count": 95,
   "metadata": {},
   "outputs": [],
   "source": [
    "icons = {\n",
    "    \"departure\": \"🛫\",\n",
    "    \"arrival\": \"🛬\",\n",
    "    \"event\": \"📅\",\n",
    "}"
   ]
  },
  {
   "cell_type": "code",
   "execution_count": 96,
   "metadata": {},
   "outputs": [
    {
     "name": "stdout",
     "output_type": "stream",
     "text": [
      "Event added successfully!\n"
     ]
    }
   ],
   "source": [
    "start_date = \"2024-05-04T08:00:00Z\"\n",
    "end_date = \"2024-05-04T10:00:00Z\"\n",
    "response = createEvent(\"Test Event\", start_date, end_date, \"This is a test event\", icons[\"departure\"])"
   ]
  }
 ],
 "metadata": {
  "kernelspec": {
   "display_name": "hackupc",
   "language": "python",
   "name": "python3"
  },
  "language_info": {
   "codemirror_mode": {
    "name": "ipython",
    "version": 3
   },
   "file_extension": ".py",
   "mimetype": "text/x-python",
   "name": "python",
   "nbconvert_exporter": "python",
   "pygments_lexer": "ipython3",
   "version": "3.10.14"
  }
 },
 "nbformat": 4,
 "nbformat_minor": 2
}
