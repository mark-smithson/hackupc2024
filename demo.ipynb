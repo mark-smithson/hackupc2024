{
 "cells": [
  {
   "cell_type": "code",
   "execution_count": 1,
   "metadata": {},
   "outputs": [],
   "source": [
    "%load_ext autoreload\n",
    "%autoreload 2"
   ]
  },
  {
   "cell_type": "code",
   "execution_count": 2,
   "metadata": {},
   "outputs": [],
   "source": [
    "from make_plan import *\n",
    "from preprocesing import *\n",
    "import pandas as pd"
   ]
  },
  {
   "cell_type": "code",
   "execution_count": 3,
   "metadata": {},
   "outputs": [
    {
     "name": "stdout",
     "output_type": "stream",
     "text": [
      "The token has not been saved to the git credentials helper. Pass `add_to_git_credential=True` in this function directly or `--add-to-git-credential` if using via `huggingface-cli` if you want to set the git credential as well.\n",
      "Token is valid (permission: read).\n",
      "Your token has been saved to /root/.cache/huggingface/token\n",
      "Login successful\n"
     ]
    },
    {
     "name": "stderr",
     "output_type": "stream",
     "text": [
      "/opt/conda/lib/python3.10/site-packages/huggingface_hub/file_download.py:1132: FutureWarning: `resume_download` is deprecated and will be removed in version 1.0.0. Downloads always resume when possible. If you want to force a new download, use `force_download=True`.\n",
      "  warnings.warn(\n"
     ]
    },
    {
     "data": {
      "application/vnd.jupyter.widget-view+json": {
       "model_id": "aa6f9318effc4dd881c9c60a9de49156",
       "version_major": 2,
       "version_minor": 0
      },
      "text/plain": [
       "Loading checkpoint shards:   0%|          | 0/4 [00:00<?, ?it/s]"
      ]
     },
     "metadata": {},
     "output_type": "display_data"
    },
    {
     "name": "stderr",
     "output_type": "stream",
     "text": [
      "Special tokens have been added in the vocabulary, make sure the associated word embeddings are fine-tuned or trained.\n"
     ]
    }
   ],
   "source": [
    "trips = load_input_dataframe()\n",
    "people_in_cities = pd.read_json(\"data/same_city_people.json\")\n",
    "t = dict(trips.iloc[0])\n",
    "\n",
    "trip = Trip(\n",
    "    user=t[\"Traveller Name\"],\n",
    "    interests=t[\"Activities\"],\n",
    "    depart_city=t[\"Departure City\"],\n",
    "    arrival_city=t[\"Arrival City\"],\n",
    "    depart_date=t[\"Departure Date\"],\n",
    "    return_date=t[\"Return Date\"],\n",
    ")\n",
    "\n",
    "tokenizer, answers_model, embedding_model = init_llm_models()\n",
    "\n",
    "trip.add_trip_features(trips, people_in_cities, events=get_fake_events(),embedding_model=embedding_model)\n",
    "# p2\n",
    "# trip.depart_date\n",
    "# add_trip_features(trips)\n",
    "# demo_suggest_event()"
   ]
  },
  {
   "cell_type": "code",
   "execution_count": 11,
   "metadata": {},
   "outputs": [
    {
     "name": "stderr",
     "output_type": "stream",
     "text": [
      "The attention mask and the pad token id were not set. As a consequence, you may observe unexpected behavior. Please pass your input's `attention_mask` to obtain reliable results.\n",
      "Setting `pad_token_id` to `eos_token_id`:128001 for open-end generation.\n"
     ]
    }
   ],
   "source": [
    "res, quest = trip.get_llm_trip_summary(tokenizer, answers_model)"
   ]
  },
  {
   "cell_type": "code",
   "execution_count": 13,
   "metadata": {},
   "outputs": [
    {
     "name": "stdout",
     "output_type": "stream",
     "text": [
      "The following are events happening in Paris.\n",
      "Food festival\n",
      "Food festival\n",
      "Food festival\n",
      "Food festival\n",
      "Food festival\n",
      "Food festival\n",
      "Food festival\n",
      "Make a vacation plan lasting 7 to attend those events. Render it as a markdown and add emojis to make it more engaging.\n"
     ]
    }
   ],
   "source": [
    "print(res)"
   ]
  },
  {
   "cell_type": "code",
   "execution_count": 4,
   "metadata": {},
   "outputs": [
    {
     "data": {
      "text/plain": [
       "[['Anderson Hudson', 'Parker Robertson', 'Zane Osborne'],\n",
       " ['Anderson Hudson', 'Parker Robertson', 'Zane Osborne'],\n",
       " ['Adrianna Price', 'Anderson Hudson', 'Parker Robertson', 'Zane Osborne'],\n",
       " ['Adrianna Price', 'Anderson Hudson', 'Parker Robertson', 'Zane Osborne'],\n",
       " ['Adrianna Price', 'Anderson Hudson', 'Parker Robertson', 'Zane Osborne'],\n",
       " ['Adrianna Price', 'Anderson Hudson', 'Parker Robertson', 'Zane Osborne'],\n",
       " ['Adrianna Price', 'Anderson Hudson', 'Parker Robertson', 'Zane Osborne']]"
      ]
     },
     "execution_count": 4,
     "metadata": {},
     "output_type": "execute_result"
    }
   ],
   "source": [
    "trip.friends"
   ]
  }
 ],
 "metadata": {
  "kernelspec": {
   "display_name": "hackupc",
   "language": "python",
   "name": "python3"
  },
  "language_info": {
   "codemirror_mode": {
    "name": "ipython",
    "version": 3
   },
   "file_extension": ".py",
   "mimetype": "text/x-python",
   "name": "python",
   "nbconvert_exporter": "python",
   "pygments_lexer": "ipython3",
   "version": "3.10.13"
  }
 },
 "nbformat": 4,
 "nbformat_minor": 2
}
