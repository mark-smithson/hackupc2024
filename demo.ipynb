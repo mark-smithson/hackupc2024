{
 "cells": [
  {
   "cell_type": "code",
   "execution_count": 1,
   "metadata": {},
   "outputs": [],
   "source": [
    "%load_ext autoreload\n",
    "%autoreload 2"
   ]
  },
  {
   "cell_type": "code",
   "execution_count": 2,
   "metadata": {},
   "outputs": [
    {
     "name": "stdout",
     "output_type": "stream",
     "text": [
      "[2024-05-05 01:11:24,716] [INFO] [real_accelerator.py:203:get_accelerator] Setting ds_accelerator to cuda (auto detect)\n",
      "\u001B[93m [WARNING] \u001B[0m async_io requires the dev libaio .so object and headers but these were not found.\n",
      "\u001B[93m [WARNING] \u001B[0m async_io: please install the libaio-dev package with apt\n",
      "\u001B[93m [WARNING] \u001B[0m If libaio is already installed (perhaps from source), try setting the CFLAGS and LDFLAGS environment variables to where it can be found.\n",
      "\u001B[93m [WARNING] \u001B[0m Please specify the CUTLASS repo directory as environment variable $CUTLASS_PATH\n"
     ]
    },
    {
     "name": "stderr",
     "output_type": "stream",
     "text": [
      "/home/ale/miniconda3/envs/hackupc2/compiler_compat/ld: cannot find -laio: No such file or directory\n",
      "collect2: error: ld returned 1 exit status\n"
     ]
    },
    {
     "name": "stdout",
     "output_type": "stream",
     "text": [
      "\u001B[93m [WARNING] \u001B[0m sparse_attn requires a torch version >= 1.5 and < 2.0 but detected 2.3\n",
      "\u001B[93m [WARNING] \u001B[0m using untested triton version (2.3.0), only 1.0.0 is known to be compatible\n",
      "The token has not been saved to the git credentials helper. Pass `add_to_git_credential=True` in this function directly or `--add-to-git-credential` if using via `huggingface-cli` if you want to set the git credential as well.\n",
      "Token is valid (permission: read).\n",
      "Your token has been saved to /home/ale/.cache/huggingface/token\n",
      "Login successful\n"
     ]
    },
    {
     "name": "stderr",
     "output_type": "stream",
     "text": [
      "/home/ale/miniconda3/envs/hackupc2/lib/python3.10/site-packages/huggingface_hub/file_download.py:1132: FutureWarning: `resume_download` is deprecated and will be removed in version 1.0.0. Downloads always resume when possible. If you want to force a new download, use `force_download=True`.\n",
      "  warnings.warn(\n",
      "The `load_in_4bit` and `load_in_8bit` arguments are deprecated and will be removed in the future versions. Please, pass a `BitsAndBytesConfig` object in `quantization_config` argument instead.\n"
     ]
    },
    {
     "data": {
      "application/vnd.jupyter.widget-view+json": {
       "model_id": "014da3ca2fd44768af2805ca9817f2f8",
       "version_major": 2,
       "version_minor": 0
      },
      "text/plain": [
       "Loading checkpoint shards:   0%|          | 0/4 [00:00<?, ?it/s]"
      ]
     },
     "metadata": {},
     "output_type": "display_data"
    },
    {
     "name": "stderr",
     "output_type": "stream",
     "text": [
      "Special tokens have been added in the vocabulary, make sure the associated word embeddings are fine-tuned or trained.\n"
     ]
    }
   ],
   "source": [
    "from make_plan import *\n",
    "from preprocesing import *\n",
    "import pandas as pd\n",
    "\n",
    "\n",
    "tokenizer, answers_model, embedding_model = init_llm_models()"
   ]
  },
  {
   "cell_type": "code",
   "execution_count": 3,
   "metadata": {},
   "outputs": [],
   "source": [
    "trips = load_input_dataframe()\n",
    "people_in_cities = pd.read_json(\"data/same_city_people.json\")\n",
    "events = pd.read_csv(\"data/generated_events_500.csv\")\n",
    "events[\"Local Date\"] = pd.to_datetime(events[\"Local Date\"])\n",
    "\n",
    "\n",
    "t = dict(trips.iloc[0])\n",
    "\n",
    "trip = Trip(\n",
    "    user=t[\"Traveller Name\"],\n",
    "    interests=t[\"Activities\"],\n",
    "    depart_city=t[\"Departure City\"],\n",
    "    arrival_city=t[\"Arrival City\"],\n",
    "    depart_date=t[\"Departure Date\"],\n",
    "    return_date=t[\"Return Date\"],\n",
    ")\n",
    "\n",
    "\n",
    "trip.add_trip_features(trips, people_in_cities, events=events,embedding_model=embedding_model)\n",
    "# p2\n",
    "# trip.depart_date\n",
    "# add_trip_features(trips)\n",
    "# demo_suggest_event()"
   ]
  },
  {
   "cell_type": "code",
   "execution_count": 4,
   "metadata": {},
   "outputs": [
    {
     "data": {
      "text/plain": [
       "[({'Event Name': 'Open-air Theater Festival',\n",
       "   'City': 'Paris',\n",
       "   'Local Date': Timestamp('2024-08-18 00:00:00'),\n",
       "   'Local Time Start': '17:30',\n",
       "   'Local Time End': '18:15',\n",
       "   'Keywords': 'fashion, national, cycling, arts',\n",
       "   'Latitude': 48.8566,\n",
       "   'Longitude': 2.3522},\n",
       "  array([2.6831377e-04, 1.1509328e-01, 1.1509328e-01, 1.5037415e-03,\n",
       "         6.1167864e-04, 1.1509328e-01, 1.5037415e-03, 6.6420404e-07,\n",
       "         6.1167864e-04, 1.1509328e-01, 2.6831377e-04, 2.6831377e-04,\n",
       "         2.6831377e-04, 2.5934791e-03, 1.1509328e-01, 4.3180317e-02,\n",
       "         1.9444520e-02, 4.3180317e-02, 2.6831377e-04, 1.9444520e-02,\n",
       "         6.1167794e-04], dtype=float32),\n",
       "  {'Scavenger Hunts': 0.37209302325581395,\n",
       "   'Pub Crawls': 0.023255813953488372,\n",
       "   'Cooking Classes': 0.023255813953488372,\n",
       "   'Concerts': 0.023255813953488372,\n",
       "   'Segway Tours': 0.023255813953488372,\n",
       "   'Football Matches': 0.023255813953488372,\n",
       "   'Escape Rooms': 0.023255813953488372,\n",
       "   'Theater Performances': 0.37209302325581395,\n",
       "   'Kayaking': 0.023255813953488372,\n",
       "   'Zip Line Adventures': 0.023255813953488372,\n",
       "   'Dancing Classes': 0.023255813953488372,\n",
       "   'Karaoke Nights': 0.023255813953488372,\n",
       "   'Cultural Festivals': 0.023255813953488372},\n",
       "  ['Theater Performances'],\n",
       "  ['Open-air Theater Festival']),\n",
       " ({'Event Name': 'Citywide Scavenger Hunt',\n",
       "   'City': 'Paris',\n",
       "   'Local Date': Timestamp('2024-08-19 00:00:00'),\n",
       "   'Local Time Start': '10:15',\n",
       "   'Local Time End': '13:00',\n",
       "   'Keywords': 'fashion, national, cycling, arts',\n",
       "   'Latitude': 48.8566,\n",
       "   'Longitude': 2.3522},\n",
       "  array([2.6380955e-03, 3.9081453e-05, 2.2735262e-02, 2.6380955e-03,\n",
       "         4.0510291e-01, 3.8749238e-03, 2.2735262e-02, 3.8749238e-03,\n",
       "         4.0510291e-01, 4.0510291e-01, 2.2735262e-02, 4.7231354e-03,\n",
       "         2.6380955e-03, 4.0563924e-04, 4.7231354e-03, 2.2735262e-02,\n",
       "         4.7231372e-03, 3.9081438e-05], dtype=float32),\n",
       "  {'Scavenger Hunts': 0.5714285714285714,\n",
       "   'Pub Crawls': 0.03571428571428571,\n",
       "   'Cooking Classes': 0.03571428571428571,\n",
       "   'Concerts': 0.03571428571428571,\n",
       "   'Segway Tours': 0.03571428571428571,\n",
       "   'Football Matches': 0.03571428571428571,\n",
       "   'Escape Rooms': 0.03571428571428571,\n",
       "   'Theater Performances': 0.03571428571428571,\n",
       "   'Kayaking': 0.03571428571428571,\n",
       "   'Zip Line Adventures': 0.03571428571428571,\n",
       "   'Dancing Classes': 0.03571428571428571,\n",
       "   'Karaoke Nights': 0.03571428571428571,\n",
       "   'Cultural Festivals': 0.03571428571428571},\n",
       "  ['Theater Performances', 'Scavenger Hunts'],\n",
       "  ['Open-air Theater Festival', 'Citywide Scavenger Hunt']),\n",
       " ({'Event Name': 'Historic Pub Tour',\n",
       "   'City': 'Paris',\n",
       "   'Local Date': Timestamp('2024-08-20 00:00:00'),\n",
       "   'Local Time Start': '15:30',\n",
       "   'Local Time End': '22:45',\n",
       "   'Keywords': 'fashion, national, cycling, arts',\n",
       "   'Latitude': 48.8566,\n",
       "   'Longitude': 2.3522},\n",
       "  array([2.3362933e-02, 2.8284753e-04, 7.0148811e-02, 3.7819191e-03,\n",
       "         2.3362933e-02, 6.9517002e-04, 3.1263938e-03, 2.0662774e-03,\n",
       "         3.1263938e-03, 2.2832664e-05, 2.8284753e-04, 3.1263938e-03,\n",
       "         2.2832664e-05, 2.2832664e-05, 2.8284753e-04, 2.2832664e-05,\n",
       "         3.1263938e-03, 6.9517002e-04, 2.2832664e-05, 6.9517002e-04,\n",
       "         2.2832664e-05, 3.1263938e-03, 2.2832664e-05, 3.1263938e-03,\n",
       "         7.0148811e-02, 3.7819191e-03, 2.8284753e-04, 2.2832664e-05,\n",
       "         6.9516950e-04, 6.9516950e-04], dtype=float32),\n",
       "  {'Scavenger Hunts': 0.012976480129764802,\n",
       "   'Pub Crawls': 0.012976480129764802,\n",
       "   'Cooking Classes': 0.012976480129764802,\n",
       "   'Concerts': 0.012976480129764802,\n",
       "   'Segway Tours': 0.20762368207623683,\n",
       "   'Football Matches': 0.20762368207623683,\n",
       "   'Escape Rooms': 0.012976480129764802,\n",
       "   'Theater Performances': 0.06569343065693431,\n",
       "   'Kayaking': 0.20762368207623683,\n",
       "   'Zip Line Adventures': 0.012976480129764802,\n",
       "   'Cultural Festivals': 0.20762368207623683,\n",
       "   'Dancing Classes': 0.012976480129764802,\n",
       "   'Karaoke Nights': 0.012976480129764802},\n",
       "  ['Theater Performances', 'Scavenger Hunts', 'Segway Tours'],\n",
       "  ['Open-air Theater Festival',\n",
       "   'Citywide Scavenger Hunt',\n",
       "   'Historic Pub Tour']),\n",
       " ({'Event Name': 'Gourmet Cooking Workshop',\n",
       "   'City': 'Paris',\n",
       "   'Local Date': Timestamp('2024-08-21 00:00:00'),\n",
       "   'Local Time Start': '12:30',\n",
       "   'Local Time End': '22:30',\n",
       "   'Keywords': 'fashion, national, cycling, arts',\n",
       "   'Latitude': 48.8566,\n",
       "   'Longitude': 2.3522},\n",
       "  array([0.01215217, 0.00125942, 0.00860419, 0.00219159, 0.00219159,\n",
       "         0.00860419, 0.00219159, 0.00219159, 0.00219159, 0.00860419,\n",
       "         0.00219159, 0.01215217, 0.05612207, 0.00860419, 0.01215217,\n",
       "         0.00125942, 0.00219159, 0.00021672, 0.00012337, 0.00219159],\n",
       "        dtype=float32),\n",
       "  {'Scavenger Hunts': 0.016112789526686808,\n",
       "   'Pub Crawls': 0.016112789526686808,\n",
       "   'Cooking Classes': 0.016112789526686808,\n",
       "   'Concerts': 0.016112789526686808,\n",
       "   'Segway Tours': 0.016112789526686808,\n",
       "   'Football Matches': 0.2578046324269889,\n",
       "   'Escape Rooms': 0.016112789526686808,\n",
       "   'Theater Performances': 0.08157099697885196,\n",
       "   'Kayaking': 0.2578046324269889,\n",
       "   'Zip Line Adventures': 0.016112789526686808,\n",
       "   'Cultural Festivals': 0.2578046324269889,\n",
       "   'Dancing Classes': 0.016112789526686808,\n",
       "   'Karaoke Nights': 0.016112789526686808},\n",
       "  ['Theater Performances',\n",
       "   'Scavenger Hunts',\n",
       "   'Segway Tours',\n",
       "   'Cultural Festivals'],\n",
       "  ['Open-air Theater Festival',\n",
       "   'Citywide Scavenger Hunt',\n",
       "   'Historic Pub Tour',\n",
       "   'Gourmet Cooking Workshop']),\n",
       " ({'Event Name': 'Champions League Match',\n",
       "   'City': 'Paris',\n",
       "   'Local Date': Timestamp('2024-08-22 00:00:00'),\n",
       "   'Local Time Start': '12:15',\n",
       "   'Local Time End': '14:30',\n",
       "   'Keywords': 'fashion, national, cycling, arts',\n",
       "   'Latitude': 48.8566,\n",
       "   'Longitude': 2.3522},\n",
       "  array([2.8413217e-04, 2.5951869e-05, 3.5045590e-04, 2.1310633e-03,\n",
       "         2.5275555e-01, 1.3690126e-06, 9.0409252e-08, 3.0838480e-04,\n",
       "         3.5045590e-04, 3.0838480e-04, 3.0838480e-04, 1.3690126e-06,\n",
       "         3.0838480e-04, 2.5951869e-05, 2.8413217e-04, 3.0838480e-04,\n",
       "         3.5045590e-04, 2.1310633e-03, 3.5045590e-04, 3.0838480e-04,\n",
       "         3.5045590e-04, 2.8413217e-04, 2.5275555e-01, 1.3690126e-06,\n",
       "         2.5951869e-05, 2.8413217e-04, 1.3690126e-06, 2.5951869e-05,\n",
       "         3.0838480e-04], dtype=float32),\n",
       "  {'Scavenger Hunts': 0.021248339973439574,\n",
       "   'Pub Crawls': 0.021248339973439574,\n",
       "   'Cooking Classes': 0.021248339973439574,\n",
       "   'Concerts': 0.021248339973439574,\n",
       "   'Segway Tours': 0.021248339973439574,\n",
       "   'Football Matches': 0.3399734395750332,\n",
       "   'Escape Rooms': 0.021248339973439574,\n",
       "   'Theater Performances': 0.10756972111553785,\n",
       "   'Kayaking': 0.3399734395750332,\n",
       "   'Zip Line Adventures': 0.021248339973439574,\n",
       "   'Cultural Festivals': 0.021248339973439574,\n",
       "   'Dancing Classes': 0.021248339973439574,\n",
       "   'Karaoke Nights': 0.021248339973439574},\n",
       "  ['Theater Performances',\n",
       "   'Scavenger Hunts',\n",
       "   'Segway Tours',\n",
       "   'Cultural Festivals',\n",
       "   'Football Matches'],\n",
       "  ['Open-air Theater Festival',\n",
       "   'Citywide Scavenger Hunt',\n",
       "   'Historic Pub Tour',\n",
       "   'Gourmet Cooking Workshop',\n",
       "   'Champions League Match']),\n",
       " ({'Event Name': 'Citywide Scavenger Hunt',\n",
       "   'City': 'Paris',\n",
       "   'Local Date': Timestamp('2024-08-23 00:00:00'),\n",
       "   'Local Time Start': '14:00',\n",
       "   'Local Time End': '14:45',\n",
       "   'Keywords': 'fashion, national, cycling, arts',\n",
       "   'Latitude': 48.8566,\n",
       "   'Longitude': 2.3522},\n",
       "  array([2.4218280e-04, 2.5700501e-06, 2.5318932e-02, 4.7231396e-03,\n",
       "         4.7231396e-03, 3.9081337e-05, 2.5700501e-06, 4.0563906e-04,\n",
       "         3.9081337e-05, 3.9081337e-05, 4.0563906e-04, 4.7231396e-03,\n",
       "         4.0563906e-04, 2.6380983e-03, 2.4218280e-04, 4.7231396e-03,\n",
       "         1.4209539e-03, 3.9081337e-05, 4.0563906e-04, 2.5318932e-02,\n",
       "         2.5700501e-06, 3.9081337e-05, 3.9081337e-05, 4.7231396e-03,\n",
       "         1.4209539e-03, 4.0563906e-04, 2.5700501e-06, 4.7231396e-03],\n",
       "        dtype=float32),\n",
       "  {'Scavenger Hunts': 0.031189083820662766,\n",
       "   'Pub Crawls': 0.031189083820662766,\n",
       "   'Cooking Classes': 0.031189083820662766,\n",
       "   'Concerts': 0.031189083820662766,\n",
       "   'Segway Tours': 0.031189083820662766,\n",
       "   'Football Matches': 0.031189083820662766,\n",
       "   'Escape Rooms': 0.031189083820662766,\n",
       "   'Theater Performances': 0.15789473684210525,\n",
       "   'Kayaking': 0.49902534113060426,\n",
       "   'Zip Line Adventures': 0.031189083820662766,\n",
       "   'Cultural Festivals': 0.031189083820662766,\n",
       "   'Dancing Classes': 0.031189083820662766,\n",
       "   'Karaoke Nights': 0.031189083820662766},\n",
       "  ['Theater Performances',\n",
       "   'Scavenger Hunts',\n",
       "   'Segway Tours',\n",
       "   'Cultural Festivals',\n",
       "   'Football Matches',\n",
       "   'Scavenger Hunts'],\n",
       "  ['Open-air Theater Festival',\n",
       "   'Citywide Scavenger Hunt',\n",
       "   'Historic Pub Tour',\n",
       "   'Gourmet Cooking Workshop',\n",
       "   'Champions League Match',\n",
       "   'Citywide Scavenger Hunt']),\n",
       " ({'Event Name': 'River Kayaking Experience',\n",
       "   'City': 'Paris',\n",
       "   'Local Date': Timestamp('2024-08-24 00:00:00'),\n",
       "   'Local Time Start': '14:15',\n",
       "   'Local Time End': '17:00',\n",
       "   'Keywords': 'fashion, national, cycling, arts',\n",
       "   'Latitude': 48.8566,\n",
       "   'Longitude': 2.3522},\n",
       "  array([4.0321630e-01, 4.7626265e-05, 4.7626265e-05, 4.0321630e-01,\n",
       "         1.5032898e-04, 4.7626265e-05, 4.0321630e-01, 1.5032898e-04,\n",
       "         3.7774313e-05, 4.7626265e-05, 4.7626265e-05, 4.7626265e-05,\n",
       "         3.7774313e-05, 4.0321630e-01], dtype=float32),\n",
       "  {'Scavenger Hunts': 0.002008032128514056,\n",
       "   'Pub Crawls': 0.0321285140562249,\n",
       "   'Cooking Classes': 0.0321285140562249,\n",
       "   'Concerts': 0.0321285140562249,\n",
       "   'Segway Tours': 0.0321285140562249,\n",
       "   'Football Matches': 0.0321285140562249,\n",
       "   'Escape Rooms': 0.0321285140562249,\n",
       "   'Theater Performances': 0.16265060240963855,\n",
       "   'Kayaking': 0.5140562248995983,\n",
       "   'Zip Line Adventures': 0.0321285140562249,\n",
       "   'Cultural Festivals': 0.0321285140562249,\n",
       "   'Dancing Classes': 0.0321285140562249,\n",
       "   'Karaoke Nights': 0.0321285140562249},\n",
       "  ['Theater Performances',\n",
       "   'Scavenger Hunts',\n",
       "   'Segway Tours',\n",
       "   'Cultural Festivals',\n",
       "   'Football Matches',\n",
       "   'Scavenger Hunts',\n",
       "   'Kayaking'],\n",
       "  ['Open-air Theater Festival',\n",
       "   'Citywide Scavenger Hunt',\n",
       "   'Historic Pub Tour',\n",
       "   'Gourmet Cooking Workshop',\n",
       "   'Champions League Match',\n",
       "   'Citywide Scavenger Hunt',\n",
       "   'River Kayaking Experience'])]"
      ]
     },
     "execution_count": 4,
     "metadata": {},
     "output_type": "execute_result"
    }
   ],
   "source": [
    "trip.events"
   ]
  },
  {
   "cell_type": "code",
   "execution_count": 5,
   "metadata": {},
   "outputs": [
    {
     "name": "stderr",
     "output_type": "stream",
     "text": [
      "The attention mask and the pad token id were not set. As a consequence, you may observe unexpected behavior. Please pass your input's `attention_mask` to obtain reliable results.\n",
      "Setting `pad_token_id` to `eos_token_id`:128001 for open-end generation.\n"
     ]
    }
   ],
   "source": [
    "res, quest = trip.get_llm_trip_summary(tokenizer, answers_model)"
   ]
  },
  {
   "cell_type": "code",
   "execution_count": 6,
   "metadata": {},
   "outputs": [
    {
     "name": "stdout",
     "output_type": "stream",
     "text": [
      "The following are events happening in Paris.\n",
      "Day 1: Open-air Theater Festival\n",
      "Day 2: Citywide Scavenger Hunt\n",
      "Day 3: Historic Pub Tour\n",
      "Day 4: Gourmet Cooking Workshop\n",
      "Day 5: Champions League Match\n",
      "Day 6: Citywide Scavenger Hunt\n",
      "Day 7: River Kayaking Experience\n",
      "Make a vacation plan lasting 7 days to attend those events. Render it as a markdown and add emojis to make it more engaging.\n"
     ]
    }
   ],
   "source": [
    "print(quest)"
   ]
  },
  {
   "cell_type": "code",
   "execution_count": 7,
   "metadata": {},
   "outputs": [
    {
     "name": "stdout",
     "output_type": "stream",
     "text": [
      "**Paris Getaway 🗼️**\n",
      "======================\n",
      "\n",
      "Day 1: Arrival and Open-air Theater Festival 🎭\n",
      "------------------------------------------------\n",
      "\n",
      "* Arrive in Paris and check-in to your hotel\n",
      "* Head to the Open-air Theater Festival to experience the magic of outdoor performances\n",
      "* Enjoy the street food and local vendors selling handmade crafts and souvenirs\n",
      "\n",
      "Day 2: Citywide Scavenger Hunt 🏃‍♀️\n",
      "----------------------------------------\n",
      "\n",
      "* Start the day with a hearty breakfast\n",
      "* Participate in the Citywide Scavenger Hunt and explore the city's hidden gems\n",
      "* Take breaks to indulge in French patisserie and café culture\n",
      "\n",
      "Day 3: Historic Pub Tour 🍺\n",
      "-----------------------------\n",
      "\n",
      "* Begin the day with a leisurely breakfast\n",
      "* Embark on the Historic Pub Tour and discover the city's oldest and most charming pubs\n",
      "* Enjoy a pint of beer and soak up the local atmosphere\n",
      "\n",
      "Day 4: Gourmet Cooking Workshop 🍳\n",
      "-----------------------------------\n",
      "\n",
      "* Start the day with a cooking class and learn the art of French cuisine\n",
      "* Prepare a three-course meal with a professional chef\n",
      "* Enjoy the fruits of your labor over a romantic dinner\n",
      "\n",
      "Day 5: Champions League Match ⚽️\n",
      "-----------------------------------\n",
      "\n",
      "* Spend the day watching the Champions League Match with fellow football enthusiasts\n",
      "* Cheer on your favorite team and enjoy the electric atmosphere\n",
      "\n",
      "Day 6: Citywide Scavenger Hunt 🏃‍♀️\n",
      "----------------------------------------\n",
      "\n",
      "* Repeat the Citywide Scavenger Hunt and explore more of Paris' hidden treasures\n",
      "* Share your experiences and tips with fellow travelers\n",
      "\n",
      "Day 7: River Kayaking Experience 🚣‍♀️\n",
      "-----------------------------------------\n",
      "\n",
      "* Start the day with a leisurely breakfast\n",
      "* Embark on the River Kayaking Experience and explore the Seine River\n",
      "* Enjoy the stunning views of the city's landmarks and bridges\n",
      "\n",
      "**Bon Voyage! 🗼️**\n",
      "=====================\n",
      "\n",
      "This 7-day itinerary provides a mix of culture, adventure, and relaxation, allowing you to experience the best of Paris. From outdoor performances to gourmet cooking, and from historic pubs to river kayaking, this getaway has something for everyone! 😊<|eot_id|>\n"
     ]
    }
   ],
   "source": [
    "# print(quest)\n",
    "print(res)"
   ]
  },
  {
   "cell_type": "code",
   "execution_count": null,
   "metadata": {},
   "outputs": [
    {
     "data": {
      "text/plain": [
       "[['Anderson Hudson', 'Parker Robertson', 'Zane Osborne'],\n",
       " ['Anderson Hudson', 'Parker Robertson', 'Zane Osborne'],\n",
       " ['Adrianna Price', 'Anderson Hudson', 'Parker Robertson', 'Zane Osborne'],\n",
       " ['Adrianna Price', 'Anderson Hudson', 'Parker Robertson', 'Zane Osborne'],\n",
       " ['Adrianna Price', 'Anderson Hudson', 'Parker Robertson', 'Zane Osborne'],\n",
       " ['Adrianna Price', 'Anderson Hudson', 'Parker Robertson', 'Zane Osborne'],\n",
       " ['Adrianna Price', 'Anderson Hudson', 'Parker Robertson', 'Zane Osborne']]"
      ]
     },
     "execution_count": 4,
     "metadata": {},
     "output_type": "execute_result"
    }
   ],
   "source": [
    "trip.friends"
   ]
  }
 ],
 "metadata": {
  "kernelspec": {
   "display_name": "hackupc",
   "language": "python",
   "name": "python3"
  },
  "language_info": {
   "codemirror_mode": {
    "name": "ipython",
    "version": 3
   },
   "file_extension": ".py",
   "mimetype": "text/x-python",
   "name": "python",
   "nbconvert_exporter": "python",
   "pygments_lexer": "ipython3",
   "version": "3.10.14"
  }
 },
 "nbformat": 4,
 "nbformat_minor": 2
}
