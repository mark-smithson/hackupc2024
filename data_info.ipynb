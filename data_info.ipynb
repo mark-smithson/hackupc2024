{
 "cells": [
  {
   "cell_type": "code",
   "execution_count": 16,
   "metadata": {},
   "outputs": [],
   "source": [
    "# Load dataset\n",
    "import pandas as pd\n",
    "\n",
    "# load csv\n",
    "df = pd.read_csv(\"data/hackupc-travelperk-dataset.csv\")\n",
    "# parse dates\n",
    "df[\"Departure Date\"] = pd.to_datetime(df[\"Departure Date\"],format=\"%d/%m/%Y\")\n",
    "df[\"Return Date\"] = pd.to_datetime(df[\"Return Date\"],format=\"%d/%m/%Y\")\n",
    "\n"
   ]
  },
  {
   "cell_type": "markdown",
   "metadata": {},
   "source": [
    "# Cities of the trip, date and number of people having the same trip. Same starting and ending city."
   ]
  },
  {
   "cell_type": "code",
   "execution_count": 18,
   "metadata": {},
   "outputs": [],
   "source": [
    "from collections import defaultdict\n",
    "\n",
    "people_by_city = defaultdict(lambda: defaultdict(int))\n",
    "# iterate on each row of the dataframe\n",
    "for index, trip in df.iterrows():\n",
    "    for day in pd.date_range(trip[\"Departure Date\"], trip[\"Return Date\"]):\n",
    "        # if the day is not in the dictionary, add it\n",
    "        # print(trip)\n",
    "\n",
    "        #     if day not in people_by_city[(row[\"Departure City\"],row[\"Arrival City\"])]:\n",
    "        people_by_city[(trip[\"Departure City\"],trip[\"Arrival City\"])][day] += 1\n",
    "\n",
    "#  convert defaultdict to dict\n",
    "people_by_city = {k: dict(v) for k, v in people_by_city.items()}\n",
    "\n",
    "\n",
    "df2 = pd.DataFrame(\n",
    "    [\n",
    "        {\"tripcities\": cities, \"date\": date, \"num_people\": n_people}\n",
    "        for cities, dates in people_by_city.items()\n",
    "        for date, n_people in dates.items()\n",
    "    ]\n",
    ")\n",
    "\n",
    "# remove when there is only one person\n",
    "df2 = df2[df2[\"num_people\"] > 1]\n",
    "# sort by npersons\n",
    "df2 = df2.sort_values(by=[\"num_people\"], ascending=False)\n",
    "df2.to_csv(\"data/same_trip.csv\", index=False)"
   ]
  },
  {
   "cell_type": "markdown",
   "metadata": {},
   "source": [
    "# Arrival city, day spent in the city, people names and number of people present in the city on that day."
   ]
  },
  {
   "cell_type": "code",
   "execution_count": 5,
   "metadata": {},
   "outputs": [],
   "source": [
    "from collections import defaultdict\n",
    "\n",
    "people_by_city = defaultdict(lambda: defaultdict(list))\n",
    "# iterate on each row of the dataframe\n",
    "for index, trip in df.iterrows():\n",
    "    for day in pd.date_range(trip[\"Departure Date\"], trip[\"Return Date\"]):\n",
    "        people_by_city[trip[\"Arrival City\"]][day] += [trip[\"Traveller Name\"]]\n",
    "\n",
    "#  convert defaultdict to dict\n",
    "people_by_city = {k: dict(v) for k, v in people_by_city.items()}\n",
    "\n",
    "\n",
    "df2 = pd.DataFrame(\n",
    "    [\n",
    "        {\"arrival_city\": cities, \"date\": date, \"people\": n_people}\n",
    "        for cities, dates in people_by_city.items()\n",
    "        for date, n_people in dates.items()\n",
    "    ]\n",
    ")\n",
    "\n",
    "df2['people'] = df2['people'].apply(sorted)\n",
    "df2['num_people'] = df2['people'].apply(len)\n",
    "df2 = df2[df2[\"num_people\"] > 1]\n",
    "df2 = df2.sort_values(by=[\"arrival_city\", \"date\"], ascending=True)\n",
    "df2.to_csv(\"data/same_city_people.csv\", index=False)"
   ]
  }
 ],
 "metadata": {
  "kernelspec": {
   "display_name": "hackupc",
   "language": "python",
   "name": "python3"
  },
  "language_info": {
   "codemirror_mode": {
    "name": "ipython",
    "version": 3
   },
   "file_extension": ".py",
   "mimetype": "text/x-python",
   "name": "python",
   "nbconvert_exporter": "python",
   "pygments_lexer": "ipython3",
   "version": "3.10.14"
  }
 },
 "nbformat": 4,
 "nbformat_minor": 2
}
